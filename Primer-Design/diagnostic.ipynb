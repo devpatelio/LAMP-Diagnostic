{
 "cells": [
  {
   "cell_type": "code",
   "execution_count": 1,
   "metadata": {},
   "outputs": [
    {
     "name": "stdout",
     "output_type": "stream",
     "text": [
      "Requirement already satisfied: primer3-py in /Library/Frameworks/Python.framework/Versions/3.9/lib/python3.9/site-packages (0.6.1)\n",
      "fatal: destination path 'GLAPD' already exists and is not an empty directory.\n",
      "Requirement already satisfied: entrezpy in /Library/Frameworks/Python.framework/Versions/3.9/lib/python3.9/site-packages (2.1.3)\n",
      "Requirement already satisfied: biopython in /Library/Frameworks/Python.framework/Versions/3.9/lib/python3.9/site-packages (1.79)\n",
      "Requirement already satisfied: numpy in /Library/Frameworks/Python.framework/Versions/3.9/lib/python3.9/site-packages (from biopython) (1.20.3)\n"
     ]
    }
   ],
   "source": [
    "# !conda activate comp_bio\n",
    "!pip3 install primer3-py\n",
    "!git clone https://github.com/jiqingxiaoxi/GLAPD.git\n",
    "!pip3 install entrezpy\n",
    "!pip3 install biopython\n",
    "\n",
    "import numpy as np\n",
    "import primer3\n",
    "import pandas as pd\n",
    "import sys"
   ]
  },
  {
   "cell_type": "code",
   "execution_count": 2,
   "metadata": {},
   "outputs": [
    {
     "name": "stdout",
     "output_type": "stream",
     "text": [
      "/Users/devpatelio/Downloads/Coding/iGEM-Toronto/Oak-Wilt/Primer-Design\n"
     ]
    }
   ],
   "source": [
    "!pwd"
   ]
  },
  {
   "cell_type": "code",
   "execution_count": 4,
   "metadata": {},
   "outputs": [
    {
     "name": "stdout",
     "output_type": "stream",
     "text": [
      "{'its': 'FJ347031.1', 'seq_eg': 'MKGJ01001257', 'ref': 'MKGJ01000001', 'background_0': '2264280775', 'background_1': '2264280774', 'background_2': '2264280773', 'background_3': '2264280772', 'background_4': '2264280771', 'background_5': '2264280770', 'background_6': '2264280769', 'background_7': '2264280768', 'background_8': '2264280767', 'background_9': '2264280766', 'background_10': '2264280765', 'background_11': '2264280764', 'background_12': '2264280763', 'background_13': '2264280762', 'background_14': '2264280761', 'background_15': '2264280760', 'background_16': '2264280759', 'background_17': '2264280758', 'background_18': '2264280757', 'background_19': '2264280756'}\n"
     ]
    }
   ],
   "source": [
    "import Bio\n",
    "from Bio import Entrez, SeqIO\n",
    "\n",
    "EMAIL = 'devpanpatel2030@gmail.com'\n",
    "DIR = '/Users/devpatelio/Downloads/Coding/iGEM-Toronto/Oak-Wilt/Primer-Design/GENOME/'\n",
    "\n",
    "labels = ['its', 'seq_eg', 'ref']\n",
    "ids = ['FJ347031.1', 'MKGJ01001257', 'MKGJ01000001']\n",
    "\n",
    "query_terms = {'Organism': ['bretziella fagacearum', 'ceratocystis fagacearum'], 'Title': ['genome', 'whole-genome', 'wgs']}\n",
    "query_keys = ['OR', 'AND', 'OR', 'OR']\n",
    "\n",
    "def return_query(terms, keys):\n",
    "    buckets = list(terms.keys())\n",
    "    values = list(terms.values())\n",
    "    values = sum(values, [])\n",
    "\n",
    "    idx = list(range(1, len(values)+len(keys)-1, 2))\n",
    "\n",
    "    for x in range(len(idx)): \n",
    "        values.insert(idx[x], keys[x])\n",
    "    \n",
    "    terms = ' '.join(values)\n",
    "    handle = Entrez.esearch(db='nucleotide', term=terms)\n",
    "    \n",
    "    record = Entrez.read(handle)\n",
    "\n",
    "    return record\n",
    "\n",
    "def get_genome(handle, f='gb'):\n",
    "    genome = SeqIO.read(handle, f)\n",
    "    return genome\n",
    "\n",
    "def make_record(label):\n",
    "    failed = []\n",
    "    try:\n",
    "        handle = Entrez.efetch(db='nucleotide', id=IDS[label], rettype='gb', retmode='text')\n",
    "        record = get_genome(handle)\n",
    "        path = f\"{DIR}raw_data/{str(label)}.fasta\"\n",
    "        SeqIO.write([record], path, \"fasta\")\n",
    "        print(f'File written to {path}')\n",
    "    except:\n",
    "        failed.append(IDS[label])\n",
    "        pass\n",
    "    return failed\n",
    "\n",
    "\n",
    "new_ids = list(return_query(query_terms, query_keys)['IdList'])\n",
    "new_names = [f'background_{m}' for m in range(len(new_ids))]\n",
    "\n",
    "ids += new_ids\n",
    "labels += new_names\n",
    "\n",
    "IDS = dict(zip(labels, ids))\n",
    "\n",
    "Entrez.email = EMAIL\n",
    "handle = Entrez.einfo(db='nucleotide')\n",
    "record = Entrez.read(handle) #testing testing\n",
    "\n",
    "print(IDS)"
   ]
  },
  {
   "cell_type": "code",
   "execution_count": 6,
   "metadata": {},
   "outputs": [],
   "source": [
    "import csv\n",
    "import os\n",
    "\n",
    "all_failures = []\n",
    "\n",
    "for label in labels:\n",
    "    f = make_record(label)\n",
    "    all_failures.append(f)"
   ]
  },
  {
   "cell_type": "code",
   "execution_count": 18,
   "metadata": {},
   "outputs": [
    {
     "name": "stdout",
     "output_type": "stream",
     "text": [
      "195057 444\n"
     ]
    }
   ],
   "source": [
    "dataset, targets = \"\", \"\"\n",
    "\n",
    "for filename in os.listdir(DIR+'raw_data'):\n",
    "    if filename == '.ipynb_checkpoints':\n",
    "        pass\n",
    "    else:\n",
    "        g = open(DIR+'raw_data/'+filename, 'r')\n",
    "        Lines = g.readlines()\n",
    "        targets += Lines[0]\n",
    "        dataset += ''.join(Lines)\n",
    "        \n",
    "print(len(dataset), len(targets))\n",
    "\n",
    "with open(DIR+'target.txt', \"w+\") as target_file, open(DIR+'dataset.fasta', 'w+') as dataset_file:\n",
    "    target_file.write(targets)\n",
    "    dataset_file.write(dataset)\n"
   ]
  },
  {
   "cell_type": "code",
   "execution_count": 21,
   "metadata": {},
   "outputs": [
    {
     "name": "stdout",
     "output_type": "stream",
     "text": [
      "/Users/devpatelio/Downloads/Coding/iGEM-Toronto/Oak-Wilt/Primer-Design/GLAPD\n",
      "gcc single.c -o Single -lm\n",
      "\u001b[1msingle.c:2396:1: \u001b[0m\u001b[0;1;35mwarning: \u001b[0m\u001b[1mnon-void function does not return a value in all control paths [-Wreturn-type]\u001b[0m\n",
      "}\n",
      "\u001b[0;1;32m^\n",
      "\u001b[0m\u001b[1msingle.c:2817:1: \u001b[0m\u001b[0;1;35mwarning: \u001b[0m\u001b[1mreturn type of 'main' is not 'int' [-Wmain-return-type]\u001b[0m\n",
      "void main(int argc, char **argv) \n",
      "\u001b[0;1;32m^\n",
      "\u001b[0m\u001b[1msingle.c:2817:1: \u001b[0m\u001b[0;1;30mnote: \u001b[0mchange return type to 'int'\u001b[0m\n",
      "void main(int argc, char **argv) \n",
      "\u001b[0;1;32m^~~~\n",
      "\u001b[0m\u001b[0;32mint\n",
      "\u001b[0m2 warnings generated.\n",
      "gcc LAMP.c -o LAMP -lm\n",
      "\u001b[1mLAMP.c:2636:1: \u001b[0m\u001b[0;1;35mwarning: \u001b[0m\u001b[1mreturn type of 'main' is not 'int' [-Wmain-return-type]\u001b[0m\n",
      "void main(int argc,char **argv)\n",
      "\u001b[0;1;32m^\n",
      "\u001b[0m\u001b[1mLAMP.c:2636:1: \u001b[0m\u001b[0;1;30mnote: \u001b[0mchange return type to 'int'\u001b[0m\n",
      "void main(int argc,char **argv)\n",
      "\u001b[0;1;32m^~~~\n",
      "\u001b[0m\u001b[0;32mint\n",
      "\u001b[0m1 warning generated.\n"
     ]
    }
   ],
   "source": [
    "%cd /Users/devpatelio/Downloads/Coding/iGEM-Toronto/Oak-Wilt/Primer-Design/GLAPD\n",
    "!make"
   ]
  },
  {
   "cell_type": "code",
   "execution_count": null,
   "metadata": {},
   "outputs": [
    {
     "name": "stdout",
     "output_type": "stream",
     "text": [
      "/Users/devpatelio/Downloads/Coding/iGEM-Toronto/Oak-Wilt/Primer-Design/GLAPD\n",
      "It takes 0 seconds to prepare.\n"
     ]
    }
   ],
   "source": [
    "%cd /Users/devpatelio/Downloads/Coding/iGEM-Toronto/Oak-Wilt/Primer-Design/GLAPD\n",
    "!mkdir results\n",
    "!./Single -in GENOME/reference.fasta -out candidates -dir results"
   ]
  },
  {
   "cell_type": "code",
   "execution_count": null,
   "metadata": {},
   "outputs": [],
   "source": []
  }
 ],
 "metadata": {
  "kernelspec": {
   "display_name": "machine_learning",
   "language": "python",
   "name": "machine_learning"
  },
  "language_info": {
   "codemirror_mode": {
    "name": "ipython",
    "version": 3
   },
   "file_extension": ".py",
   "mimetype": "text/x-python",
   "name": "python",
   "nbconvert_exporter": "python",
   "pygments_lexer": "ipython3",
   "version": "3.8.12"
  },
  "vscode": {
   "interpreter": {
    "hash": "fac2f4fe459eb197d3865d79ba4de9b9e90f557b8d6578c2106f187bc13abee1"
   }
  }
 },
 "nbformat": 4,
 "nbformat_minor": 4
}
