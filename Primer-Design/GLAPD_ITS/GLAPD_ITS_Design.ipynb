{
  "nbformat": 4,
  "nbformat_minor": 0,
  "metadata": {
    "colab": {
      "name": "GLAPD_ITS_Design.ipynb",
      "provenance": [],
      "collapsed_sections": []
    },
    "kernelspec": {
      "name": "python3",
      "display_name": "Python 3"
    },
    "language_info": {
      "name": "python"
    }
  },
  "cells": [
    {
      "cell_type": "markdown",
      "source": [
        "# Downloads and Installation\n",
        "\n",
        "Download necessary libraries and tools."
      ],
      "metadata": {
        "id": "0EgvyFmATbSQ"
      }
    },
    {
      "cell_type": "code",
      "execution_count": null,
      "metadata": {
        "colab": {
          "base_uri": "https://localhost:8080/"
        },
        "id": "aHYv877nTYQv",
        "outputId": "2fec51a6-f11f-4a0e-cb41-2df19a470467"
      },
      "outputs": [
        {
          "output_type": "stream",
          "name": "stdout",
          "text": [
            "Looking in indexes: https://pypi.org/simple, https://us-python.pkg.dev/colab-wheels/public/simple/\n",
            "Collecting biopython\n",
            "  Downloading biopython-1.79-cp37-cp37m-manylinux_2_5_x86_64.manylinux1_x86_64.whl (2.3 MB)\n",
            "\u001b[K     |████████████████████████████████| 2.3 MB 3.8 MB/s \n",
            "\u001b[?25hRequirement already satisfied: numpy in /usr/local/lib/python3.7/dist-packages (from biopython) (1.21.6)\n",
            "Installing collected packages: biopython\n",
            "Successfully installed biopython-1.79\n",
            "Cloning into 'GLAPD'...\n",
            "remote: Enumerating objects: 189, done.\u001b[K\n",
            "remote: Total 189 (delta 0), reused 0 (delta 0), pack-reused 189\u001b[K\n",
            "Receiving objects: 100% (189/189), 23.99 MiB | 13.44 MiB/s, done.\n",
            "Resolving deltas: 100% (85/85), done.\n",
            "/content/GLAPD\n"
          ]
        }
      ],
      "source": [
        "!pip install biopython\n",
        "\n",
        "!git clone https://github.com/jiqingxiaoxi/GLAPD.git\n",
        "%cd GLAPD"
      ]
    },
    {
      "cell_type": "code",
      "source": [
        "!make"
      ],
      "metadata": {
        "colab": {
          "base_uri": "https://localhost:8080/"
        },
        "id": "MA1aIAa5e21J",
        "outputId": "70174b44-09ea-4474-d7d4-4784f4397581"
      },
      "execution_count": null,
      "outputs": [
        {
          "output_type": "stream",
          "name": "stdout",
          "text": [
            "gcc single.c -o Single -lm\n",
            "gcc LAMP.c -o LAMP -lm\n"
          ]
        }
      ]
    },
    {
      "cell_type": "code",
      "source": [
        "import pathlib\n",
        "\n",
        "from Bio import Entrez, SeqIO\n",
        "\n",
        "\n",
        "Entrez.email = \"hello.devpatel@gmail.com\"\n",
        "Entrez.tool = \"GLAPD_ITS_Design.ipynb\"\n",
        "\n",
        "data_dir = pathlib.Path.cwd() / \"oak_wilt\"\n",
        "data_dir.mkdir(exist_ok=True)"
      ],
      "metadata": {
        "id": "50VkuxrWhcu0"
      },
      "execution_count": null,
      "outputs": []
    },
    {
      "cell_type": "markdown",
      "source": [
        "Query and download reference genome."
      ],
      "metadata": {
        "id": "I3k8ci9DUIoP"
      }
    },
    {
      "cell_type": "code",
      "source": [
        "ref_id = \"FJ347031.1\"\n",
        "handle = Entrez.efetch(db=\"nucleotide\", rettype=\"gbwithparts\", retmode=\"text\", id=ref_id)\n",
        "record = SeqIO.read(handle, \"genbank\")\n",
        "\n",
        "SeqIO.write([record], str(data_dir / \"ref_its.fasta\"), \"fasta\")\n",
        "record"
      ],
      "metadata": {
        "id": "JwYHXLgCUQmn",
        "colab": {
          "base_uri": "https://localhost:8080/"
        },
        "outputId": "751cb3c6-448a-44af-9d4a-284f217c05f1"
      },
      "execution_count": null,
      "outputs": [
        {
          "output_type": "execute_result",
          "data": {
            "text/plain": [
              "SeqRecord(seq=Seq('TCATTACTGAGTTTTCAACTCTTTAAAACCATTTGTGAACATACCATTTTTTTT...GTT'), id='FJ347031.1', name='FJ347031', description='Ceratocystis fagacearum 18S ribosomal RNA gene, partial sequence; internal transcribed spacer 1, 5.8 S ribosomal RNA gene, and internal transcribed spacer 2, complete sequence; and 26S ribosomal RNA gene, partial sequence', dbxrefs=[])"
            ]
          },
          "metadata": {},
          "execution_count": 4
        }
      ]
    },
    {
      "cell_type": "markdown",
      "source": [
        "Query and download dataset genomes."
      ],
      "metadata": {
        "id": "9WuBqBF4hYnj"
      }
    },
    {
      "cell_type": "code",
      "source": [
        "genus = [\"Bretziella\", \"Ceratocystis\"]\n",
        "title = [\"internal transcribed spacer 1\", \"internal transcribed spacer 2\"]\n",
        "\n",
        "genus_query = \" OR \".join(f\"({g}[Organism])\" for g in genus)\n",
        "title_query = \" AND \".join(f\"(\\\"{t}\\\"[Title])\" for t in title)\n",
        "query = f\"(({genus_query}) AND ({title_query}))\"\n",
        "query"
      ],
      "metadata": {
        "colab": {
          "base_uri": "https://localhost:8080/",
          "height": 36
        },
        "id": "d0iZ5uH-fcDF",
        "outputId": "d21107ba-2ae4-4be2-bf20-1d97170e767e"
      },
      "execution_count": null,
      "outputs": [
        {
          "output_type": "execute_result",
          "data": {
            "text/plain": [
              "'(((Bretziella[Organism]) OR (Ceratocystis[Organism])) AND ((\"internal transcribed spacer 1\"[Title]) AND (\"internal transcribed spacer 2\"[Title])))'"
            ],
            "application/vnd.google.colaboratory.intrinsic+json": {
              "type": "string"
            }
          },
          "metadata": {},
          "execution_count": 5
        }
      ]
    },
    {
      "cell_type": "code",
      "source": [
        "handle = Entrez.esearch(db=\"nucleotide\", retmax=1500, term=query, idtype=\"acc\")\n",
        "record = Entrez.read(handle)\n",
        "dataset_ids = set(record[\"IdList\"])\n",
        "\n",
        "assert ref_id in dataset_ids \n",
        "len(dataset_ids)"
      ],
      "metadata": {
        "colab": {
          "base_uri": "https://localhost:8080/"
        },
        "id": "1DL3PGARsCY5",
        "outputId": "bbbf3e5c-575e-4615-c0ca-ac698ee320d0"
      },
      "execution_count": null,
      "outputs": [
        {
          "output_type": "execute_result",
          "data": {
            "text/plain": [
              "1159"
            ]
          },
          "metadata": {},
          "execution_count": 6
        }
      ]
    },
    {
      "cell_type": "code",
      "source": [
        "desc_key = \"internal transcribed spacer 1, 5.8S ribosomal RNA gene, and internal transcribed spacer 2, complete sequence\"\n",
        "desc_key = desc_key.replace(\" \", \"\")\n",
        "\n",
        "handle = Entrez.efetch(db=\"nucleotide\", rettype=\"gbwithparts\", retmode=\"text\", id=dataset_ids)\n",
        "dataset = SeqIO.parse(handle, \"genbank\")\n",
        "\n",
        "# make more resilient to weird spacings by removing white spaces\n",
        "dataset = filter(lambda r: desc_key in r.description.replace(\" \", \"\"), dataset)\n",
        "\n",
        "SeqIO.write(dataset, str(data_dir / \"dataset.fasta\"), \"fasta\")\n",
        "\n",
        "with open(data_dir / \"target.txt\", \"w+\") as target_f, \\\n",
        "     open(data_dir / \"dataset.fasta\", \"r\") as dataset_f:\n",
        "\n",
        "    for line in dataset_f.readlines(): \n",
        "        if (line[0] == \">\") and (\"fagacearum\" in line):\n",
        "            target_f.write(line)\n",
        "            print(line)"
      ],
      "metadata": {
        "colab": {
          "base_uri": "https://localhost:8080/"
        },
        "id": "1XQtgIkus6Oj",
        "outputId": "0177e7cb-7138-4f20-e9d8-b85013f53f44"
      },
      "execution_count": null,
      "outputs": [
        {
          "output_type": "stream",
          "name": "stdout",
          "text": [
            ">MH865866.1 Bretziella fagacearum culture CBS:130770 strain CBS 130770 small subunit ribosomal RNA gene, partial sequence; internal transcribed spacer 1, 5.8S ribosomal RNA gene, and internal transcribed spacer 2, complete sequence; and large subunit ribosomal RNA gene, partial sequence\n",
            "\n",
            ">DQ318193.1 Ceratocystis fagacearum strain WIN(M) 892 18S ribosomal RNA gene, partial sequence; internal transcribed spacer 1, 5.8S ribosomal RNA gene, and internal transcribed spacer 2, complete sequence; and 26S ribosomal RNA gene, partial sequence\n",
            "\n",
            ">MH865196.1 Bretziella fagacearum culture CBS:129241 strain CBS 129241 small subunit ribosomal RNA gene, partial sequence; internal transcribed spacer 1, 5.8S ribosomal RNA gene, and internal transcribed spacer 2, complete sequence; and large subunit ribosomal RNA gene, partial sequence\n",
            "\n",
            ">KC305152.1 Ceratocystis fagacearum strain C 520 18S ribosomal RNA gene, partial sequence; internal transcribed spacer 1, 5.8S ribosomal RNA gene, and internal transcribed spacer 2, complete sequence; and 26S ribosomal RNA gene, partial sequence\n",
            "\n",
            ">FJ347031.1 Ceratocystis fagacearum 18S ribosomal RNA gene, partial sequence; internal transcribed spacer 1, 5.8 S ribosomal RNA gene, and internal transcribed spacer 2, complete sequence; and 26S ribosomal RNA gene, partial sequence\n",
            "\n",
            ">KC305149.1 Ceratocystis fagacearum strain C 460 18S ribosomal RNA gene, partial sequence; internal transcribed spacer 1, 5.8S ribosomal RNA gene, and internal transcribed spacer 2, complete sequence; and 26S ribosomal RNA gene, partial sequence\n",
            "\n",
            ">KC305154.1 Ceratocystis fagacearum strain CMW 2039 18S ribosomal RNA gene, partial sequence; internal transcribed spacer 1, 5.8S ribosomal RNA gene, and internal transcribed spacer 2, complete sequence; and 26S ribosomal RNA gene, partial sequence\n",
            "\n",
            ">MH865197.1 Bretziella fagacearum culture CBS:129242 strain CBS 129242 small subunit ribosomal RNA gene, partial sequence; internal transcribed spacer 1, 5.8S ribosomal RNA gene, and internal transcribed spacer 2, complete sequence; and large subunit ribosomal RNA gene, partial sequence\n",
            "\n",
            ">KU042044.1 Bretziella fagacearum strain CBS 138363 18S ribosomal RNA gene, partial sequence; internal transcribed spacer 1, 5.8S ribosomal RNA gene, and internal transcribed spacer 2, complete sequence; and 26S ribosomal RNA gene, partial sequence\n",
            "\n",
            ">KC305153.1 Ceratocystis fagacearum strain C 660 18S ribosomal RNA gene, partial sequence; internal transcribed spacer 1, 5.8S ribosomal RNA gene, and internal transcribed spacer 2, complete sequence; and 26S ribosomal RNA gene, partial sequence\n",
            "\n",
            ">KC305150.1 Ceratocystis fagacearum strain C 465 18S ribosomal RNA gene, partial sequence; internal transcribed spacer 1, 5.8S ribosomal RNA gene, and internal transcribed spacer 2, complete sequence; and 26S ribosomal RNA gene, partial sequence\n",
            "\n",
            ">KC305151.1 Ceratocystis fagacearum strain C 505 18S ribosomal RNA gene, partial sequence; internal transcribed spacer 1, 5.8S ribosomal RNA gene, and internal transcribed spacer 2, complete sequence; and 26S ribosomal RNA gene, partial sequence\n",
            "\n"
          ]
        }
      ]
    },
    {
      "cell_type": "markdown",
      "source": [
        "# Run GLAPD"
      ],
      "metadata": {
        "id": "ijR5vpYzXdC5"
      }
    },
    {
      "cell_type": "code",
      "source": [
        "!bowtie/bowtie-build oak_wilt/dataset.fasta oak_wilt/index "
      ],
      "metadata": {
        "colab": {
          "base_uri": "https://localhost:8080/"
        },
        "id": "qV7ArWkPtfOH",
        "outputId": "7c21517f-c123-4811-9afd-601ece349962"
      },
      "execution_count": null,
      "outputs": [
        {
          "output_type": "stream",
          "name": "stdout",
          "text": [
            "Settings:\n",
            "  Output files: \"oak_wilt/index.*.ebwt\"\n",
            "  Line rate: 6 (line is 64 bytes)\n",
            "  Lines per side: 1 (side is 64 bytes)\n",
            "  Offset rate: 5 (one in 32)\n",
            "  FTable chars: 10\n",
            "  Strings: unpacked\n",
            "  Max bucket size: default\n",
            "  Max bucket size, sqrt multiplier: default\n",
            "  Max bucket size, len divisor: 4\n",
            "  Difference-cover sample period: 1024\n",
            "  Endianness: little\n",
            "  Actual local endianness: little\n",
            "  Sanity checking: disabled\n",
            "  Assertions: disabled\n",
            "  Random seed: 0\n",
            "  Sizeofs: void*:8, int:4, long:8, size_t:8\n",
            "Input files DNA, FASTA:\n",
            "  oak_wilt/dataset.fasta\n",
            "Reading reference sizes\n",
            "  Time reading reference sizes: 00:00:00\n",
            "Calculating joined length\n",
            "Writing header\n",
            "Reserving space for joined string\n",
            "Joining reference sequences\n",
            "  Time to join reference sequences: 00:00:00\n",
            "bmax according to bmaxDivN setting: 63424\n",
            "Using parameters --bmax 47568 --dcv 1024\n",
            "  Doing ahead-of-time memory usage test\n",
            "  Passed!  Constructing with these parameters: --bmax 47568 --dcv 1024\n",
            "Constructing suffix-array element generator\n",
            "Building DifferenceCoverSample\n",
            "  Building sPrime\n",
            "  Building sPrimeOrder\n",
            "  V-Sorting samples\n",
            "  V-Sorting samples time: 00:00:00\n",
            "  Allocating rank array\n",
            "  Ranking v-sort output\n",
            "  Ranking v-sort output time: 00:00:00\n",
            "  Invoking Larsson-Sadakane on ranks\n",
            "  Invoking Larsson-Sadakane on ranks time: 00:00:00\n",
            "  Sanity-checking and returning\n",
            "Building samples\n",
            "Reserving space for 12 sample suffixes\n",
            "Generating random suffixes\n",
            "QSorting 12 sample offsets, eliminating duplicates\n",
            "QSorting sample offsets, eliminating duplicates time: 00:00:00\n",
            "Multikey QSorting 12 samples\n",
            "  (Using difference cover)\n",
            "  Multikey QSorting samples time: 00:00:00\n",
            "Calculating bucket sizes\n",
            "  Binary sorting into buckets\n",
            "  10%\n",
            "  20%\n",
            "  30%\n",
            "  40%\n",
            "  50%\n",
            "  60%\n",
            "  70%\n",
            "  80%\n",
            "  90%\n",
            "  100%\n",
            "  Binary sorting into buckets time: 00:00:00\n",
            "Splitting and merging\n",
            "  Splitting and merging time: 00:00:00\n",
            "Split 1, merged 6; iterating...\n",
            "  Binary sorting into buckets\n",
            "  10%\n",
            "  20%\n",
            "  30%\n",
            "  40%\n",
            "  50%\n",
            "  60%\n",
            "  70%\n",
            "  80%\n",
            "  90%\n",
            "  100%\n",
            "  Binary sorting into buckets time: 00:00:00\n",
            "Splitting and merging\n",
            "  Splitting and merging time: 00:00:00\n",
            "Avg bucket size: 36241.9 (target: 47567)\n",
            "Converting suffix-array elements to index image\n",
            "Allocating ftab, absorbFtab\n",
            "Entering Ebwt loop\n",
            "Getting block 1 of 7\n",
            "  Reserving size (47568) for bucket\n",
            "  Calculating Z arrays\n",
            "  Calculating Z arrays time: 00:00:00\n",
            "  Entering block accumulator loop:\n",
            "  10%\n",
            "  20%\n",
            "  30%\n",
            "  40%\n",
            "  50%\n",
            "  60%\n",
            "  70%\n",
            "  80%\n",
            "  90%\n",
            "  100%\n",
            "  Block accumulator loop time: 00:00:00\n",
            "  Sorting block of length 38686\n",
            "  (Using difference cover)\n",
            "  Sorting block time: 00:00:00\n",
            "Returning block of 38687\n",
            "Getting block 2 of 7\n",
            "  Reserving size (47568) for bucket\n",
            "  Calculating Z arrays\n",
            "  Calculating Z arrays time: 00:00:00\n",
            "  Entering block accumulator loop:\n",
            "  10%\n",
            "  20%\n",
            "  30%\n",
            "  40%\n",
            "  50%\n",
            "  60%\n",
            "  70%\n",
            "  80%\n",
            "  90%\n",
            "  100%\n",
            "  Block accumulator loop time: 00:00:00\n",
            "  Sorting block of length 47146\n",
            "  (Using difference cover)\n",
            "  Sorting block time: 00:00:00\n",
            "Returning block of 47147\n",
            "Getting block 3 of 7\n",
            "  Reserving size (47568) for bucket\n",
            "  Calculating Z arrays\n",
            "  Calculating Z arrays time: 00:00:00\n",
            "  Entering block accumulator loop:\n",
            "  10%\n",
            "  20%\n",
            "  30%\n",
            "  40%\n",
            "  50%\n",
            "  60%\n",
            "  70%\n",
            "  80%\n",
            "  90%\n",
            "  100%\n",
            "  Block accumulator loop time: 00:00:00\n",
            "  Sorting block of length 37235\n",
            "  (Using difference cover)\n",
            "  Sorting block time: 00:00:00\n",
            "Returning block of 37236\n",
            "Getting block 4 of 7\n",
            "  Reserving size (47568) for bucket\n",
            "  Calculating Z arrays\n",
            "  Calculating Z arrays time: 00:00:00\n",
            "  Entering block accumulator loop:\n",
            "  10%\n",
            "  20%\n",
            "  30%\n",
            "  40%\n",
            "  50%\n",
            "  60%\n",
            "  70%\n",
            "  80%\n",
            "  90%\n",
            "  100%\n",
            "  Block accumulator loop time: 00:00:00\n",
            "  Sorting block of length 45937\n",
            "  (Using difference cover)\n",
            "  Sorting block time: 00:00:01\n",
            "Returning block of 45938\n",
            "Getting block 5 of 7\n",
            "  Reserving size (47568) for bucket\n",
            "  Calculating Z arrays\n",
            "  Calculating Z arrays time: 00:00:00\n",
            "  Entering block accumulator loop:\n",
            "  10%\n",
            "  20%\n",
            "  30%\n",
            "  40%\n",
            "  50%\n",
            "  60%\n",
            "  70%\n",
            "  80%\n",
            "  90%\n",
            "  100%\n",
            "  Block accumulator loop time: 00:00:00\n",
            "  Sorting block of length 28473\n",
            "  (Using difference cover)\n",
            "  Sorting block time: 00:00:00\n",
            "Returning block of 28474\n",
            "Getting block 6 of 7\n",
            "  Reserving size (47568) for bucket\n",
            "  Calculating Z arrays\n",
            "  Calculating Z arrays time: 00:00:00\n",
            "  Entering block accumulator loop:\n",
            "  10%\n",
            "  20%\n",
            "  30%\n",
            "  40%\n",
            "  50%\n",
            "  60%\n",
            "  70%\n",
            "  80%\n",
            "  90%\n",
            "  100%\n",
            "  Block accumulator loop time: 00:00:00\n",
            "  Sorting block of length 22122\n",
            "  (Using difference cover)\n",
            "  Sorting block time: 00:00:00\n",
            "Returning block of 22123\n",
            "Getting block 7 of 7\n",
            "  Reserving size (47568) for bucket\n",
            "  Calculating Z arrays\n",
            "  Calculating Z arrays time: 00:00:00\n",
            "  Entering block accumulator loop:\n",
            "  10%\n",
            "  20%\n",
            "  30%\n",
            "  40%\n",
            "  50%\n",
            "  60%\n",
            "  70%\n",
            "  80%\n",
            "  90%\n",
            "  100%\n",
            "  Block accumulator loop time: 00:00:00\n",
            "  Sorting block of length 34094\n",
            "  (Using difference cover)\n",
            "  Sorting block time: 00:00:00\n",
            "Returning block of 34095\n",
            "Exited Ebwt loop\n",
            "fchr[A]: 0\n",
            "fchr[C]: 66670\n",
            "fchr[G]: 122250\n",
            "fchr[T]: 175997\n",
            "fchr[$]: 253699\n",
            "Exiting Ebwt::buildToDisk()\n",
            "Returning from initFromVector\n",
            "Wrote 4374464 bytes to primary EBWT file: oak_wilt/index.1.ebwt\n",
            "Wrote 31720 bytes to secondary EBWT file: oak_wilt/index.2.ebwt\n",
            "Re-opening _in1 and _in2 as input streams\n",
            "Returning from Ebwt constructor\n",
            "Headers:\n",
            "    len: 253699\n",
            "    bwtLen: 253700\n",
            "    sz: 63425\n",
            "    bwtSz: 63425\n",
            "    lineRate: 6\n",
            "    linesPerSide: 1\n",
            "    offRate: 5\n",
            "    offMask: 0xffffffe0\n",
            "    isaRate: -1\n",
            "    isaMask: 0xffffffff\n",
            "    ftabChars: 10\n",
            "    eftabLen: 20\n",
            "    eftabSz: 80\n",
            "    ftabLen: 1048577\n",
            "    ftabSz: 4194308\n",
            "    offsLen: 7929\n",
            "    offsSz: 31716\n",
            "    isaLen: 0\n",
            "    isaSz: 0\n",
            "    lineSz: 64\n",
            "    sideSz: 64\n",
            "    sideBwtSz: 56\n",
            "    sideBwtLen: 224\n",
            "    numSidePairs: 567\n",
            "    numSides: 1134\n",
            "    numLines: 1134\n",
            "    ebwtTotLen: 72576\n",
            "    ebwtTotSz: 72576\n",
            "    reverse: 0\n",
            "Total time for call to driver() for forward index: 00:00:01\n",
            "Reading reference sizes\n",
            "  Time reading reference sizes: 00:00:00\n",
            "Calculating joined length\n",
            "Writing header\n",
            "Reserving space for joined string\n",
            "Joining reference sequences\n",
            "  Time to join reference sequences: 00:00:00\n",
            "bmax according to bmaxDivN setting: 63424\n",
            "Using parameters --bmax 47568 --dcv 1024\n",
            "  Doing ahead-of-time memory usage test\n",
            "  Passed!  Constructing with these parameters: --bmax 47568 --dcv 1024\n",
            "Constructing suffix-array element generator\n",
            "Building DifferenceCoverSample\n",
            "  Building sPrime\n",
            "  Building sPrimeOrder\n",
            "  V-Sorting samples\n",
            "  V-Sorting samples time: 00:00:00\n",
            "  Allocating rank array\n",
            "  Ranking v-sort output\n",
            "  Ranking v-sort output time: 00:00:00\n",
            "  Invoking Larsson-Sadakane on ranks\n",
            "  Invoking Larsson-Sadakane on ranks time: 00:00:00\n",
            "  Sanity-checking and returning\n",
            "Building samples\n",
            "Reserving space for 12 sample suffixes\n",
            "Generating random suffixes\n",
            "QSorting 12 sample offsets, eliminating duplicates\n",
            "QSorting sample offsets, eliminating duplicates time: 00:00:00\n",
            "Multikey QSorting 12 samples\n",
            "  (Using difference cover)\n",
            "  Multikey QSorting samples time: 00:00:00\n",
            "Calculating bucket sizes\n",
            "  Binary sorting into buckets\n",
            "  10%\n",
            "  20%\n",
            "  30%\n",
            "  40%\n",
            "  50%\n",
            "  60%\n",
            "  70%\n",
            "  80%\n",
            "  90%\n",
            "  100%\n",
            "  Binary sorting into buckets time: 00:00:00\n",
            "Splitting and merging\n",
            "  Splitting and merging time: 00:00:00\n",
            "Split 3, merged 6; iterating...\n",
            "  Binary sorting into buckets\n",
            "  10%\n",
            "  20%\n",
            "  30%\n",
            "  40%\n",
            "  50%\n",
            "  60%\n",
            "  70%\n",
            "  80%\n",
            "  90%\n",
            "  100%\n",
            "  Binary sorting into buckets time: 00:00:00\n",
            "Splitting and merging\n",
            "  Splitting and merging time: 00:00:00\n",
            "Split 1, merged 2; iterating...\n",
            "  Binary sorting into buckets\n",
            "  10%\n",
            "  20%\n",
            "  30%\n",
            "  40%\n",
            "  50%\n",
            "  60%\n",
            "  70%\n",
            "  80%\n",
            "  90%\n",
            "  100%\n",
            "  Binary sorting into buckets time: 00:00:00\n",
            "Splitting and merging\n",
            "  Splitting and merging time: 00:00:00\n",
            "Avg bucket size: 31711.5 (target: 47567)\n",
            "Converting suffix-array elements to index image\n",
            "Allocating ftab, absorbFtab\n",
            "Entering Ebwt loop\n",
            "Getting block 1 of 8\n",
            "  Reserving size (47568) for bucket\n",
            "  Calculating Z arrays\n",
            "  Calculating Z arrays time: 00:00:00\n",
            "  Entering block accumulator loop:\n",
            "  10%\n",
            "  20%\n",
            "  30%\n",
            "  40%\n",
            "  50%\n",
            "  60%\n",
            "  70%\n",
            "  80%\n",
            "  90%\n",
            "  100%\n",
            "  Block accumulator loop time: 00:00:00\n",
            "  Sorting block of length 30478\n",
            "  (Using difference cover)\n",
            "  Sorting block time: 00:00:00\n",
            "Returning block of 30479\n",
            "Getting block 2 of 8\n",
            "  Reserving size (47568) for bucket\n",
            "  Calculating Z arrays\n",
            "  Calculating Z arrays time: 00:00:00\n",
            "  Entering block accumulator loop:\n",
            "  10%\n",
            "  20%\n",
            "  30%\n",
            "  40%\n",
            "  50%\n",
            "  60%\n",
            "  70%\n",
            "  80%\n",
            "  90%\n",
            "  100%\n",
            "  Block accumulator loop time: 00:00:00\n",
            "  Sorting block of length 42604\n",
            "  (Using difference cover)\n",
            "  Sorting block time: 00:00:00\n",
            "Returning block of 42605\n",
            "Getting block 3 of 8\n",
            "  Reserving size (47568) for bucket\n",
            "  Calculating Z arrays\n",
            "  Calculating Z arrays time: 00:00:00\n",
            "  Entering block accumulator loop:\n",
            "  10%\n",
            "  20%\n",
            "  30%\n",
            "  40%\n",
            "  50%\n",
            "  60%\n",
            "  70%\n",
            "  80%\n",
            "  90%\n",
            "  100%\n",
            "  Block accumulator loop time: 00:00:00\n",
            "  Sorting block of length 44840\n",
            "  (Using difference cover)\n",
            "  Sorting block time: 00:00:00\n",
            "Returning block of 44841\n",
            "Getting block 4 of 8\n",
            "  Reserving size (47568) for bucket\n",
            "  Calculating Z arrays\n",
            "  Calculating Z arrays time: 00:00:00\n",
            "  Entering block accumulator loop:\n",
            "  10%\n",
            "  20%\n",
            "  30%\n",
            "  40%\n",
            "  50%\n",
            "  60%\n",
            "  70%\n",
            "  80%\n",
            "  90%\n",
            "  100%\n",
            "  Block accumulator loop time: 00:00:00\n",
            "  Sorting block of length 4945\n",
            "  (Using difference cover)\n",
            "  Sorting block time: 00:00:00\n",
            "Returning block of 4946\n",
            "Getting block 5 of 8\n",
            "  Reserving size (47568) for bucket\n",
            "  Calculating Z arrays\n",
            "  Calculating Z arrays time: 00:00:00\n",
            "  Entering block accumulator loop:\n",
            "  10%\n",
            "  20%\n",
            "  30%\n",
            "  40%\n",
            "  50%\n",
            "  60%\n",
            "  70%\n",
            "  80%\n",
            "  90%\n",
            "  100%\n",
            "  Block accumulator loop time: 00:00:00\n",
            "  Sorting block of length 44888\n",
            "  (Using difference cover)\n",
            "  Sorting block time: 00:00:00\n",
            "Returning block of 44889\n",
            "Getting block 6 of 8\n",
            "  Reserving size (47568) for bucket\n",
            "  Calculating Z arrays\n",
            "  Calculating Z arrays time: 00:00:00\n",
            "  Entering block accumulator loop:\n",
            "  10%\n",
            "  20%\n",
            "  30%\n",
            "  40%\n",
            "  50%\n",
            "  60%\n",
            "  70%\n",
            "  80%\n",
            "  90%\n",
            "  100%\n",
            "  Block accumulator loop time: 00:00:00\n",
            "  Sorting block of length 36672\n",
            "  (Using difference cover)\n",
            "  Sorting block time: 00:00:00\n",
            "Returning block of 36673\n",
            "Getting block 7 of 8\n",
            "  Reserving size (47568) for bucket\n",
            "  Calculating Z arrays\n",
            "  Calculating Z arrays time: 00:00:00\n",
            "  Entering block accumulator loop:\n",
            "  10%\n",
            "  20%\n",
            "  30%\n",
            "  40%\n",
            "  50%\n",
            "  60%\n",
            "  70%\n",
            "  80%\n",
            "  90%\n",
            "  100%\n",
            "  Block accumulator loop time: 00:00:00\n",
            "  Sorting block of length 15108\n",
            "  (Using difference cover)\n",
            "  Sorting block time: 00:00:00\n",
            "Returning block of 15109\n",
            "Getting block 8 of 8\n",
            "  Reserving size (47568) for bucket\n",
            "  Calculating Z arrays\n",
            "  Calculating Z arrays time: 00:00:00\n",
            "  Entering block accumulator loop:\n",
            "  10%\n",
            "  20%\n",
            "  30%\n",
            "  40%\n",
            "  50%\n",
            "  60%\n",
            "  70%\n",
            "  80%\n",
            "  90%\n",
            "  100%\n",
            "  Block accumulator loop time: 00:00:00\n",
            "  Sorting block of length 34157\n",
            "  (Using difference cover)\n",
            "  Sorting block time: 00:00:00\n",
            "Returning block of 34158\n",
            "Exited Ebwt loop\n",
            "fchr[A]: 0\n",
            "fchr[C]: 66670\n",
            "fchr[G]: 122250\n",
            "fchr[T]: 175997\n",
            "fchr[$]: 253699\n",
            "Exiting Ebwt::buildToDisk()\n",
            "Returning from initFromVector\n",
            "Wrote 4374464 bytes to primary EBWT file: oak_wilt/index.rev.1.ebwt\n",
            "Wrote 31720 bytes to secondary EBWT file: oak_wilt/index.rev.2.ebwt\n",
            "Re-opening _in1 and _in2 as input streams\n",
            "Returning from Ebwt constructor\n",
            "Headers:\n",
            "    len: 253699\n",
            "    bwtLen: 253700\n",
            "    sz: 63425\n",
            "    bwtSz: 63425\n",
            "    lineRate: 6\n",
            "    linesPerSide: 1\n",
            "    offRate: 5\n",
            "    offMask: 0xffffffe0\n",
            "    isaRate: -1\n",
            "    isaMask: 0xffffffff\n",
            "    ftabChars: 10\n",
            "    eftabLen: 20\n",
            "    eftabSz: 80\n",
            "    ftabLen: 1048577\n",
            "    ftabSz: 4194308\n",
            "    offsLen: 7929\n",
            "    offsSz: 31716\n",
            "    isaLen: 0\n",
            "    isaSz: 0\n",
            "    lineSz: 64\n",
            "    sideSz: 64\n",
            "    sideBwtSz: 56\n",
            "    sideBwtLen: 224\n",
            "    numSidePairs: 567\n",
            "    numSides: 1134\n",
            "    numLines: 1134\n",
            "    ebwtTotLen: 72576\n",
            "    ebwtTotSz: 72576\n",
            "    reverse: 0\n",
            "Total time for backward call to driver() for mirror index: 00:00:00\n"
          ]
        }
      ]
    },
    {
      "cell_type": "code",
      "source": [
        "!mkdir results"
      ],
      "metadata": {
        "id": "uDm1rW8egVSy"
      },
      "execution_count": null,
      "outputs": []
    },
    {
      "cell_type": "code",
      "source": [
        "!./Single -in oak_wilt/ref_its.fasta -out candidates -dir results"
      ],
      "metadata": {
        "colab": {
          "base_uri": "https://localhost:8080/"
        },
        "id": "2GdzatG7VoQw",
        "outputId": "9afdfaa5-5356-494f-d375-e130f9b3e476"
      },
      "execution_count": null,
      "outputs": [
        {
          "output_type": "stream",
          "name": "stdout",
          "text": [
            "It takes 0 seconds to prepare.\n",
            "There ara 553 candidate primers used as F3/F2/B2/B3.\n",
            "There are 507 candidate primers used as F1c/B1c.\n",
            "It takes 4 seconds to identify candidate single primer regions.\n"
          ]
        }
      ]
    },
    {
      "cell_type": "code",
      "source": [
        "!perl par.pl --in candidates --ref oak_wilt/ref_its.fasta --dir results --common oak_wilt/target.txt --left \\\n",
        "    --bowtie bowtie/bowtie --index oak_wilt/index"
      ],
      "metadata": {
        "colab": {
          "base_uri": "https://localhost:8080/"
        },
        "id": "QlY2QjHjgUTd",
        "outputId": "14aba10a-1f22-42e6-b9d7-a7435d928d86"
      },
      "execution_count": null,
      "outputs": [
        {
          "output_type": "stream",
          "name": "stdout",
          "text": [
            "Now the program is handling the 1-th file, total files is 2...\n",
            "# reads processed: 507\n",
            "# reads with at least one reported alignment: 507 (100.00%)\n",
            "# reads that failed to align: 0 (0.00%)\n",
            "Reported 80407 alignments to 1 output stream(s)\n",
            "    In this step, it takes 0 seconds.\n",
            "Now the program is handling the 2-th file, total files is 2...\n",
            "# reads processed: 553\n",
            "# reads with at least one reported alignment: 553 (100.00%)\n",
            "# reads that failed to align: 0 (0.00%)\n",
            "Reported 92917 alignments to 1 output stream(s)\n",
            "    In this step, it takes 1 seconds.\n"
          ]
        }
      ]
    },
    {
      "cell_type": "code",
      "source": [
        "!./LAMP -in candidates -ref oak_wilt/ref_its.fasta -dir results -out results/success.txt -common -specific"
      ],
      "metadata": {
        "colab": {
          "base_uri": "https://localhost:8080/"
        },
        "id": "6PjWovQOglR-",
        "outputId": "5b46971f-9e00-4fe5-bb55-71d4da13d781"
      },
      "execution_count": null,
      "outputs": [
        {
          "output_type": "stream",
          "name": "stdout",
          "text": [
            "It takes 0 seconds to prepare data.\n",
            "Running: amplify 12 target genome.\n",
            "Running: amplify 11 target genome.\n",
            "It takes 1 seconds to design the 1-th LAMP primer set successfully.\n",
            "Running: amplify 10 target genome.\n",
            "Running: amplify 9 target genome.\n",
            "Running: amplify 8 target genome.\n",
            "Running: amplify 7 target genome.\n",
            "Running: amplify 6 target genome.\n",
            "Running: amplify 5 target genome.\n",
            "Running: amplify 4 target genome.\n",
            "Running: amplify 3 target genome.\n",
            "Running: amplify 2 target genome.\n",
            "Running: amplify 1 target genome.\n",
            "It takes 0 seconds to free memory.\n",
            "\n",
            "It takes total 1 seconds to finish this design.\n"
          ]
        }
      ]
    },
    {
      "cell_type": "code",
      "source": [
        "!zip -r results.zip results/"
      ],
      "metadata": {
        "colab": {
          "base_uri": "https://localhost:8080/"
        },
        "id": "1yLKd9m60eEN",
        "outputId": "9d9f729e-899b-4792-a1c3-a0d4298bf999"
      },
      "execution_count": null,
      "outputs": [
        {
          "output_type": "stream",
          "name": "stdout",
          "text": [
            "  adding: results/ (stored 0%)\n",
            "  adding: results/success.txt (deflated 51%)\n",
            "  adding: results/Outer/ (stored 0%)\n",
            "  adding: results/Outer/candidates-common.txt (deflated 81%)\n",
            "  adding: results/Outer/candidates-specific.txt (deflated 83%)\n",
            "  adding: results/Outer/candidates (deflated 83%)\n",
            "  adding: results/Inner/ (stored 0%)\n",
            "  adding: results/Inner/candidates-common.txt (deflated 82%)\n",
            "  adding: results/Inner/candidates-specific.txt (deflated 83%)\n",
            "  adding: results/Inner/candidates (deflated 83%)\n",
            "  adding: results/Inner/candidates-common_list.txt (deflated 42%)\n"
          ]
        }
      ]
    }
  ]
}
