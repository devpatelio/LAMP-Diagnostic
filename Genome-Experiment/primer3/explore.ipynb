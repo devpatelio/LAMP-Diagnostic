{
 "cells": [
  {
   "cell_type": "code",
   "execution_count": 8,
   "metadata": {},
   "outputs": [
    {
     "name": "stdout",
     "output_type": "stream",
     "text": [
      "49.16808228911765\n",
      "ThermoResult(structure_found=True, tm=62.63, dg=-2770.52, dh=-36300.00, ds=-108.11)\n",
      "62.62754587292767\n",
      "-2770.524493437486 -36300.0 -108.10728842999362\n"
     ]
    }
   ],
   "source": [
    "import primer3\n",
    "from primer3 import *\n",
    "import torch\n",
    "import torch.nn as nn\n",
    "import torch.utils.data.dataloader\n",
    "import pandas as pd\n",
    "\n",
    "print(calcTm('GTAAAACGACGGCCAGT')) #melting temperature of DNA sequence\n",
    "res = calcHairpin('CCCCCATCCGATCAGGGGG') #obtains structure from most common ss of RNA hairpin\n",
    "print(res)\n",
    "print(res.tm) #melting temperature of RNA hairpin\n",
    "print(res.dg, res.dh, res.ds)\n",
    "\n"
   ]
  },
  {
   "cell_type": "code",
   "execution_count": 3,
   "metadata": {},
   "outputs": [
    {
     "name": "stdout",
     "output_type": "stream",
     "text": [
      "[1, 26, 652]\n"
     ]
    }
   ],
   "source": []
  },
  {
   "cell_type": "code",
   "execution_count": null,
   "metadata": {},
   "outputs": [],
   "source": []
  }
 ],
 "metadata": {
  "kernelspec": {
   "display_name": "Python 3.8.12 ('machine_learning')",
   "language": "python",
   "name": "python3"
  },
  "language_info": {
   "codemirror_mode": {
    "name": "ipython",
    "version": 3
   },
   "file_extension": ".py",
   "mimetype": "text/x-python",
   "name": "python",
   "nbconvert_exporter": "python",
   "pygments_lexer": "ipython3",
   "version": "3.8.12"
  },
  "orig_nbformat": 4,
  "vscode": {
   "interpreter": {
    "hash": "577ea14e5a220a2e2ceb4e7a6eabde6a6424f50ee02cc5f86f913307280e145a"
   }
  }
 },
 "nbformat": 4,
 "nbformat_minor": 2
}
