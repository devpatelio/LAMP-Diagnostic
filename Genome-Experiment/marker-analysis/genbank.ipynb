{
 "cells": [
  {
   "cell_type": "code",
   "execution_count": null,
   "metadata": {},
   "outputs": [],
   "source": []
  }
 ],
 "metadata": {
  "interpreter": {
   "hash": "577ea14e5a220a2e2ceb4e7a6eabde6a6424f50ee02cc5f86f913307280e145a"
  },
  "kernelspec": {
   "display_name": "Python 3.8.12 ('machine_learning')",
   "language": "python",
   "name": "python3"
  },
  "language_info": {
   "name": "python",
   "version": "3.8.12"
  },
  "orig_nbformat": 4
 },
 "nbformat": 4,
 "nbformat_minor": 2
}
